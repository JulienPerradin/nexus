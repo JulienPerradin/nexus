{
 "cells": [
  {
   "cell_type": "markdown",
   "metadata": {},
   "source": [
    "# Tutorial"
   ]
  },
  {
   "cell_type": "markdown",
   "metadata": {},
   "source": [
    "## 1)"
   ]
  },
  {
   "cell_type": "markdown",
   "metadata": {},
   "source": [
    "### Problem Statement\n",
    "We would like to calculate the percolation properties of a 1008 atoms SiO2 system at a given temperature and pressure."
   ]
  },
  {
   "cell_type": "code",
   "execution_count": 1,
   "metadata": {},
   "outputs": [
    {
     "name": "stdout",
     "output_type": "stream",
     "text": [
      "\n",
      "                                                            \n",
      "                                                            \n",
      "`7MN.   `7MF'`7MM\"\"\"YMM  `YMM'   `MP'`7MMF'   `7MF'.M\"\"\"bgd \n",
      "  MMN.    M    MM    `7    VMb.  ,P    MM       M ,MI    \"Y \n",
      "  M YMb   M    MM   d       `MM.M'     MM       M `MMb.     \n",
      "  M  `MN. M    MMmmMM         MMb      MM       M   `YMMNq. \n",
      "  M   `MM.M    MM   Y  ,    ,M'`Mb.    MM       M .     `MM \n",
      "  M     YMM    MM     ,M   ,P   `MM.   YM.     ,M Mb     dM \n",
      ".JML.    YM  .JMMmmmmMMM .MM:.  .:MMa.  `bmmmmd\"' P\"Ybmmd\"  \n",
      "                                                            \n",
      "                                                            \n",
      "    \n",
      "__version__ ➜\t 0.1.6\n",
      "\n"
     ]
    }
   ],
   "source": [
    "# 1° import the module nexus\n",
    "import nexus"
   ]
  },
  {
   "cell_type": "code",
   "execution_count": 2,
   "metadata": {},
   "outputs": [],
   "source": [
    "# 2° create the object settings from the package nexus with the extension SiOz \n",
    "#   (this extension contains the parameters for SiOz polyhedra)\n",
    "settings = nexus.settings.Settings(extension=\"SiOz\")"
   ]
  },
  {
   "cell_type": "code",
   "execution_count": 3,
   "metadata": {},
   "outputs": [],
   "source": [
    "# 3° Set the parameters of the analysis\n",
    "# 3.1 - The path to the trajectory file\n",
    "trajectory_file = \"./inputs/tutorial-1/SiO2-1008at-300K-15GPa.xyz\"\n",
    "settings.path_to_xyz_file.set_value(trajectory_file)\n",
    "\n",
    "# 3.2 - The number of atoms in the system (mandatory)\n",
    "settings.number_of_atoms.set_value(1008)\n",
    "\n",
    "# 3.3 - The number of line of comment in the xyz file\n",
    "settings.header.set_value(2)\n",
    "\n",
    "# 3.4 - The structure of the system (ie: the species and their number)\n",
    "settings.structure.set_value([\n",
    "    {\"element\": 'Si', \"alias\": 2, \"number\": 336},\n",
    "    {\"element\": 'O' , \"alias\": 1, \"number\": 672}\n",
    "])\n",
    "\n",
    "# 3.5 - Temperature and pressure (facultative)\n",
    "settings.temperature.set_value(300)\n",
    "settings.pressure.set_value(15.0)"
   ]
  },
  {
   "cell_type": "code",
   "execution_count": 5,
   "metadata": {},
   "outputs": [],
   "source": [
    "# 4° Set the parameters for the output\n",
    "# 4.1 - The path to the output directory which is the name of the project\n",
    "settings.name_of_the_project.set_value(\"my_first_project\")\n",
    "\n",
    "# 4.2 - The path to the export directory\n",
    "settings.export_directory.set_value(\"./outputs/tutorial-1\")\n"
   ]
  },
  {
   "cell_type": "code",
   "execution_count": null,
   "metadata": {},
   "outputs": [],
   "source": [
    "# 5° Set the parameters for clusters analysis\n",
    "# 5.1 - The research criteria for the clusters\n",
    "settings.cluster_settings.set_cluster_parameter(\"criteria\", \"bond\")\n",
    "# 5.2 - The connectivity of the clusters\n",
    "settings.cluster_settings.set_cluster_parameter(\"connectivity\", ['Si', 'O', 'Si'])"
   ]
  }
 ],
 "metadata": {
  "kernelspec": {
   "display_name": "base",
   "language": "python",
   "name": "python3"
  },
  "language_info": {
   "codemirror_mode": {
    "name": "ipython",
    "version": 3
   },
   "file_extension": ".py",
   "mimetype": "text/x-python",
   "name": "python",
   "nbconvert_exporter": "python",
   "pygments_lexer": "ipython3",
   "version": "3.10.13"
  }
 },
 "nbformat": 4,
 "nbformat_minor": 2
}
